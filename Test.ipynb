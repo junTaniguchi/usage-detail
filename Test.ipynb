{
 "cells": [
  {
   "cell_type": "code",
   "execution_count": 1,
   "metadata": {},
   "outputs": [],
   "source": [
    "from flask import Flask, render_template, request, abort, jsonify\n",
    "import requests\n",
    "import pprint\n",
    "\n",
    "headers = {'Authorization': 'Bearer {}'.format('a')}"
   ]
  },
  {
   "cell_type": "code",
   "execution_count": 2,
   "metadata": {},
   "outputs": [
    {
     "name": "stdout",
     "output_type": "stream",
     "text": [
      "{'auth_result': 0, 'session_id': '0faa025f'}\n"
     ]
    }
   ],
   "source": [
    "url_items = 'http://localhost:5000/api/login/'\n",
    "\n",
    "item_data = {\n",
    "    'mem_id'   : 1,\n",
    "    'password' : 'a'\n",
    "}\n",
    "#API Call\n",
    "req_post = requests.post(url_items, headers=headers, json=item_data)\n",
    "pprint.pprint(req_post.json())"
   ]
  },
  {
   "cell_type": "code",
   "execution_count": 3,
   "metadata": {},
   "outputs": [
    {
     "name": "stdout",
     "output_type": "stream",
     "text": [
      "{'auth_result': 0,\n",
      " 'customer_info': {'address': '東京都新宿区西新宿8丁目17番1号住友不動産新宿グランドタワー',\n",
      "                   'birthday': '20080401',\n",
      "                   'email': 'XXXXX@tis.co.jp',\n",
      "                   'phone': '03-5337-7070',\n",
      "                   'user_name': 'TIS株式会社'}}\n"
     ]
    }
   ],
   "source": [
    "url_items = 'http://localhost:5000/api/get/user/0faa025f'\n",
    "req_get = requests.get(url_items, headers=headers)\n",
    "pprint.pprint(req_get.json())"
   ]
  },
  {
   "cell_type": "code",
   "execution_count": 4,
   "metadata": {},
   "outputs": [
    {
     "name": "stdout",
     "output_type": "stream",
     "text": [
      "{'ask_result': 0,\n",
      " 'auth_result': 0,\n",
      " 'balance_info': {'cs': {'all': {'balance': 350000,\n",
      "                                 'frame': 500000,\n",
      "                                 'usage': 150000},\n",
      "                         'domestic': {'balance': 300000,\n",
      "                                      'frame': 300000,\n",
      "                                      'usage': 50000},\n",
      "                         'overseas': {'balance': 300000,\n",
      "                                      'frame': 300000,\n",
      "                                      'usage': 50000},\n",
      "                         'revolving': {'balance': 300000,\n",
      "                                       'frame': 300000,\n",
      "                                       'usage': 50000}},\n",
      "                  'installment': {'all': {'balance': 300000,\n",
      "                                          'frame': 500000,\n",
      "                                          'usage': 200000},\n",
      "                                  'bonus': {'balance': 150000,\n",
      "                                            'frame': 200000,\n",
      "                                            'usage': 50000},\n",
      "                                  'manytimes': {'balance': 150000,\n",
      "                                                'frame': 200000,\n",
      "                                                'usage': 50000},\n",
      "                                  'revolving': {'balance': 150000,\n",
      "                                                'frame': 200000,\n",
      "                                                'usage': 50000},\n",
      "                                  'twice': {'balance': 150000,\n",
      "                                            'frame': 200000,\n",
      "                                            'usage': 50000}},\n",
      "                  'total': {'all': {'balance': 400000,\n",
      "                                    'frame': 1000000,\n",
      "                                    'usage': 600000},\n",
      "                            'cs': {'balance': 350000,\n",
      "                                   'frame': 500000,\n",
      "                                   'usage': 150000},\n",
      "                            'installment': {'balance': 300000,\n",
      "                                            'frame': 500000,\n",
      "                                            'usage': 200000},\n",
      "                            'sp': {'balance': 300000,\n",
      "                                   'frame': 1000000,\n",
      "                                   'usage': 250000}}}}\n"
     ]
    }
   ],
   "source": [
    "url_items = 'http://localhost:5000/api/get/balance/0faa025f'\n",
    "req_get = requests.get(url_items, headers=headers)\n",
    "pprint.pprint(req_get.json())"
   ]
  },
  {
   "cell_type": "code",
   "execution_count": 5,
   "metadata": {},
   "outputs": [
    {
     "name": "stdout",
     "output_type": "stream",
     "text": [
      "{'ask_result': 0,\n",
      " 'auth_result': 0,\n",
      " 'detail_info': [{'method': 'card',\n",
      "                  'record_no': 1,\n",
      "                  'usage_amount': 100,\n",
      "                  'usage_date': '20080401',\n",
      "                  'usage_shop': 'd社'},\n",
      "                 {'method': 'card',\n",
      "                  'record_no': 2,\n",
      "                  'usage_amount': 1,\n",
      "                  'usage_date': '20080401',\n",
      "                  'usage_shop': 'k社'}]}\n"
     ]
    }
   ],
   "source": [
    "url_items = 'http://localhost:5000/api/get/details/0faa025f'\n",
    "req_get = requests.get(url_items, headers=headers)\n",
    "pprint.pprint(req_get.json())"
   ]
  },
  {
   "cell_type": "code",
   "execution_count": 7,
   "metadata": {},
   "outputs": [
    {
     "name": "stdout",
     "output_type": "stream",
     "text": [
      "{'ask_result': 0,\n",
      " 'auth_result': 0,\n",
      " 'chart_data': {'エンターテイメント': {'TOHOシネマズ': [{'ご利用額': 1000, '利用日': '2018/04/01'},\n",
      "                                           {'ご利用額': 1000, '利用日': '2018/04/01'},\n",
      "                                           {'ご利用額': 1000, '利用日': '2018/04/01'}],\n",
      "                              '伊勢丹': {'ルイヴィトン': [{'ご利用額': 1000,\n",
      "                                                  '利用日': '2018/04/01'},\n",
      "                                                 {'ご利用額': 1000,\n",
      "                                                  '利用日': '2018/04/01'},\n",
      "                                                 {'ご利用額': 1000,\n",
      "                                                  '利用日': '2018/04/01'}],\n",
      "                                      '伊勢丹': [{'ご利用額': 1000,\n",
      "                                               '利用日': '2018/04/01'},\n",
      "                                              {'ご利用額': 1000,\n",
      "                                               '利用日': '2018/04/01'},\n",
      "                                              {'ご利用額': 1000,\n",
      "                                               '利用日': '2018/04/01'}],\n",
      "                                      '資生堂': [{'ご利用額': 1000,\n",
      "                                               '利用日': '2018/04/01'},\n",
      "                                              {'ご利用額': 1000,\n",
      "                                               '利用日': '2018/04/01'},\n",
      "                                              {'ご利用額': 1000,\n",
      "                                               '利用日': '2018/04/01'}]}},\n",
      "                'ホテル': {'HILTON': [{'ご利用額': 1000, '利用日': '2018/04/01'},\n",
      "                                   {'ご利用額': 1000, '利用日': '2018/04/01'},\n",
      "                                   {'ご利用額': 1000, '利用日': '2018/04/01'}],\n",
      "                        'ニューオータニ': [{'ご利用額': 1000, '利用日': '2018/04/01'},\n",
      "                                    {'ご利用額': 1000, '利用日': '2018/04/01'},\n",
      "                                    {'ご利用額': 1000, '利用日': '2018/04/01'}]},\n",
      "                '医療薬品': {'マツモトキヨシ': [{'ご利用額': 1000, '利用日': '2018/04/01'},\n",
      "                                     {'ご利用額': 1000, '利用日': '2018/04/01'},\n",
      "                                     {'ご利用額': 1000, '利用日': '2018/04/01'}],\n",
      "                         '市ヶ谷歯科クリニック': [{'ご利用額': 1000, '利用日': '2018/04/01'},\n",
      "                                        {'ご利用額': 1000, '利用日': '2018/04/01'},\n",
      "                                        {'ご利用額': 1000, '利用日': '2018/04/01'}]},\n",
      "                '外食': {'スターバックスコーヒー': [{'ご利用額': 1000, '利用日': '2018/04/01'},\n",
      "                                       {'ご利用額': 1000, '利用日': '2018/04/01'},\n",
      "                                       {'ご利用額': 1000, '利用日': '2018/04/01'}],\n",
      "                       '蒙古タンメン仲本': [{'ご利用額': 1000, '利用日': '2018/04/01'},\n",
      "                                    {'ご利用額': 1000, '利用日': '2018/04/01'},\n",
      "                                    {'ご利用額': 1000, '利用日': '2018/04/01'}]}}}\n"
     ]
    }
   ],
   "source": [
    "url_items = 'http://localhost:5000/api/get/chart/0faa025f'\n",
    "req_get = requests.get(url_items, headers=headers)\n",
    "pprint.pprint(req_get.json())"
   ]
  },
  {
   "cell_type": "code",
   "execution_count": null,
   "metadata": {},
   "outputs": [],
   "source": []
  }
 ],
 "metadata": {
  "kernelspec": {
   "display_name": "Python 3",
   "language": "python",
   "name": "python3"
  },
  "language_info": {
   "codemirror_mode": {
    "name": "ipython",
    "version": 3
   },
   "file_extension": ".py",
   "mimetype": "text/x-python",
   "name": "python",
   "nbconvert_exporter": "python",
   "pygments_lexer": "ipython3",
   "version": "3.5.4"
  }
 },
 "nbformat": 4,
 "nbformat_minor": 2
}

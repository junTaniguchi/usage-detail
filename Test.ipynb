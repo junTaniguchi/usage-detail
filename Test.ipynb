{
 "cells": [
  {
   "cell_type": "code",
   "execution_count": 6,
   "metadata": {},
   "outputs": [],
   "source": [
    "from flask import Flask, render_template, request, abort, jsonify\n",
    "import requests\n",
    "import pprint\n",
    "\n",
    "headers = {'Authorization': 'Bearer {}'.format('a')}"
   ]
  },
  {
   "cell_type": "code",
   "execution_count": 7,
   "metadata": {},
   "outputs": [
    {
     "name": "stdout",
     "output_type": "stream",
     "text": [
      "{'auth_result': 0, 'session_id': '0faa025f'}\n"
     ]
    }
   ],
   "source": [
    "url_items = 'http://localhost:5000/api/login/'\n",
    "\n",
    "item_data = {\n",
    "    'mem_id'   : 1,\n",
    "    'password' : 'a'\n",
    "}\n",
    "#API Call\n",
    "req_post = requests.post(url_items, headers=headers, json=item_data)\n",
    "pprint.pprint(req_post.json())"
   ]
  },
  {
   "cell_type": "code",
   "execution_count": 8,
   "metadata": {},
   "outputs": [
    {
     "name": "stdout",
     "output_type": "stream",
     "text": [
      "{'auth_result': 0,\n",
      " 'customer_info': {'address': '東京都新宿区西新宿8丁目17番1号住友不動産新宿グランドタワー',\n",
      "                   'birthday': '20080401',\n",
      "                   'email': 'XXXXX@tis.co.jp',\n",
      "                   'phone': '03-5337-7070',\n",
      "                   'user_name': 'TIS株式会社'}}\n"
     ]
    }
   ],
   "source": [
    "url_items = 'http://localhost:5000/api/get/user/0faa025f'\n",
    "req_get = requests.get(url_items, headers=headers)\n",
    "pprint.pprint(req_get.json())"
   ]
  },
  {
   "cell_type": "code",
   "execution_count": 9,
   "metadata": {},
   "outputs": [
    {
     "name": "stdout",
     "output_type": "stream",
     "text": [
      "{'ask_result': 0,\n",
      " 'auth_result': 0,\n",
      " 'balance_info': {'cashing_balance': 200000,\n",
      "                  'cashing_frame': 200000,\n",
      "                  'cashing_usage': 200000,\n",
      "                  'installment_balance': 100000,\n",
      "                  'installment_frame': 100000,\n",
      "                  'installment_usage': 50000,\n",
      "                  'total_balance': 300000,\n",
      "                  'total_frame': 300000,\n",
      "                  'total_usage': 50000}}\n"
     ]
    }
   ],
   "source": [
    "url_items = 'http://localhost:5000/api/get/balance/0faa025f'\n",
    "req_get = requests.get(url_items, headers=headers)\n",
    "pprint.pprint(req_get.json())"
   ]
  },
  {
   "cell_type": "code",
   "execution_count": 11,
   "metadata": {},
   "outputs": [
    {
     "name": "stdout",
     "output_type": "stream",
     "text": [
      "{'ask_result': 0,\n",
      " 'auth_result': 0,\n",
      " 'detail_info': [{'method': 'card',\n",
      "                  'record_no': 1,\n",
      "                  'usage_amount': 100,\n",
      "                  'usage_date': '20080401',\n",
      "                  'usage_shop': 'd社'},\n",
      "                 {'method': 'card',\n",
      "                  'record_no': 2,\n",
      "                  'usage_amount': 1,\n",
      "                  'usage_date': '20080401',\n",
      "                  'usage_shop': 'k社'}]}\n"
     ]
    }
   ],
   "source": [
    "url_items = 'http://localhost:5000/api/get/details/0faa025f'\n",
    "req_get = requests.get(url_items, headers=headers)\n",
    "pprint.pprint(req_get.json())"
   ]
  },
  {
   "cell_type": "code",
   "execution_count": null,
   "metadata": {},
   "outputs": [],
   "source": []
  }
 ],
 "metadata": {
  "kernelspec": {
   "display_name": "Python 3",
   "language": "python",
   "name": "python3"
  },
  "language_info": {
   "codemirror_mode": {
    "name": "ipython",
    "version": 3
   },
   "file_extension": ".py",
   "mimetype": "text/x-python",
   "name": "python",
   "nbconvert_exporter": "python",
   "pygments_lexer": "ipython3",
   "version": "3.7.4"
  }
 },
 "nbformat": 4,
 "nbformat_minor": 2
}
